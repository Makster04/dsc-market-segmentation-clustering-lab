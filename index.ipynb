{
 "cells": [
  {
   "cell_type": "markdown",
   "metadata": {},
   "source": [
    "# Market Segmentation with Clustering - Lab\n",
    "\n",
    "## Introduction\n",
    "\n",
    "In this lab, you'll use your knowledge of clustering to perform market segmentation on a real-world dataset!\n",
    "\n",
    "## Objectives\n",
    "\n",
    "In this lab you will: \n",
    "\n",
    "- Use clustering to create and interpret market segmentation on real-world data \n",
    "\n",
    "## Getting Started\n",
    "\n",
    "In this lab, you're going to work with the [Wholesale customers dataset](https://archive.ics.uci.edu/ml/datasets/wholesale+customers) from the UCI Machine Learning datasets repository. This dataset contains data on wholesale purchasing information from real businesses. These businesses range from small cafes and hotels to grocery stores and other retailers. \n",
    "\n",
    "Here's the data dictionary for this dataset:\n",
    "\n",
    "|      Column      |                                               Description                                              |\n",
    "|:----------------:|:------------------------------------------------------------------------------------------------------:|\n",
    "|       FRESH      |                    Annual spending on fresh products, such as fruits and vegetables                    |\n",
    "|       MILK       |                               Annual spending on milk and dairy products                               |\n",
    "|      GROCERY     |                                   Annual spending on grocery products                                  |\n",
    "|      FROZEN      |                                   Annual spending on frozen products                                   |\n",
    "| DETERGENTS_PAPER |                  Annual spending on detergents, cleaning supplies, and paper products                  |\n",
    "|   DELICATESSEN   |                           Annual spending on meats and delicatessen products                           |\n",
    "|      CHANNEL     | Type of customer.  1=Hotel/Restaurant/Cafe, 2=Retailer. (This is what we'll use clustering to predict) |\n",
    "|      REGION      |            Region of Portugal that the customer is located in. (This column will be dropped)           |\n",
    "\n",
    "\n",
    "\n",
    "One benefit of working with this dataset for practice with segmentation is that we actually have the ground-truth labels of what market segment each customer actually belongs to. For this reason, we'll borrow some methodology from supervised learning and store these labels separately, so that we can use them afterward to check how well our clustering segmentation actually performed. \n",
    "\n",
    "Let's get started by importing everything we'll need.\n",
    "\n",
    "In the cell below:\n",
    "\n",
    "* Import `pandas`, `numpy`, and `matplotlib.pyplot`, and set the standard alias for each. \n",
    "* Use `numpy` to set a random seed of `0`.\n",
    "* Set all matplotlib visualizations to appear inline."
   ]
  },
  {
   "cell_type": "code",
   "execution_count": 22,
   "metadata": {},
   "outputs": [],
   "source": [
    "import pandas as pd\n",
    "import numpy as np\n",
    "import matplotlib.pyplot as plt\n",
    "%matplotlib inline\n",
    "\n",
    "np.random.seed(0)\n"
   ]
  },
  {
   "cell_type": "markdown",
   "metadata": {},
   "source": [
    "Now, let's load our data and inspect it. You'll find the data stored in `'wholesale_customers_data.csv'`. \n",
    "\n",
    "In the cell below, load the data into a DataFrame and then display the first five rows to ensure everything loaded correctly."
   ]
  },
  {
   "cell_type": "code",
   "execution_count": 36,
   "metadata": {},
   "outputs": [
    {
     "name": "stdout",
     "output_type": "stream",
     "text": [
      "   Channel  Region  Fresh  Milk  Grocery  Frozen  Detergents_Paper  Delicassen\n",
      "0        2       3  12669  9656     7561     214              2674        1338\n",
      "1        2       3   7057  9810     9568    1762              3293        1776\n",
      "2        2       3   6353  8808     7684    2405              3516        7844\n",
      "3        1       3  13265  1196     4221    6404               507        1788\n",
      "4        2       3  22615  5410     7198    3915              1777        5185\n"
     ]
    }
   ],
   "source": [
    "raw_df = pd.read_csv('wholesale_customers_data.csv')\n",
    "print(raw_df.head())"
   ]
  },
  {
   "cell_type": "markdown",
   "metadata": {},
   "source": [
    "Now, let's go ahead and store the `'Channel'` column in a separate variable and then drop both the `'Channel'` and `'Region'` columns. Then, display the first five rows of the new DataFrame to ensure everything worked correctly. "
   ]
  },
  {
   "cell_type": "code",
   "execution_count": 37,
   "metadata": {},
   "outputs": [
    {
     "data": {
      "application/vnd.microsoft.datawrangler.viewer.v0+json": {
       "columns": [
        {
         "name": "index",
         "rawType": "int64",
         "type": "integer"
        },
        {
         "name": "Fresh",
         "rawType": "int64",
         "type": "integer"
        },
        {
         "name": "Milk",
         "rawType": "int64",
         "type": "integer"
        },
        {
         "name": "Grocery",
         "rawType": "int64",
         "type": "integer"
        },
        {
         "name": "Frozen",
         "rawType": "int64",
         "type": "integer"
        },
        {
         "name": "Detergents_Paper",
         "rawType": "int64",
         "type": "integer"
        },
        {
         "name": "Delicassen",
         "rawType": "int64",
         "type": "integer"
        }
       ],
       "conversionMethod": "pd.DataFrame",
       "ref": "2f596298-4365-4aa4-8959-798943682045",
       "rows": [
        [
         "0",
         "12669",
         "9656",
         "7561",
         "214",
         "2674",
         "1338"
        ],
        [
         "1",
         "7057",
         "9810",
         "9568",
         "1762",
         "3293",
         "1776"
        ],
        [
         "2",
         "6353",
         "8808",
         "7684",
         "2405",
         "3516",
         "7844"
        ],
        [
         "3",
         "13265",
         "1196",
         "4221",
         "6404",
         "507",
         "1788"
        ],
        [
         "4",
         "22615",
         "5410",
         "7198",
         "3915",
         "1777",
         "5185"
        ],
        [
         "5",
         "9413",
         "8259",
         "5126",
         "666",
         "1795",
         "1451"
        ],
        [
         "6",
         "12126",
         "3199",
         "6975",
         "480",
         "3140",
         "545"
        ],
        [
         "7",
         "7579",
         "4956",
         "9426",
         "1669",
         "3321",
         "2566"
        ],
        [
         "8",
         "5963",
         "3648",
         "6192",
         "425",
         "1716",
         "750"
        ],
        [
         "9",
         "6006",
         "11093",
         "18881",
         "1159",
         "7425",
         "2098"
        ],
        [
         "10",
         "3366",
         "5403",
         "12974",
         "4400",
         "5977",
         "1744"
        ],
        [
         "11",
         "13146",
         "1124",
         "4523",
         "1420",
         "549",
         "497"
        ],
        [
         "12",
         "31714",
         "12319",
         "11757",
         "287",
         "3881",
         "2931"
        ],
        [
         "13",
         "21217",
         "6208",
         "14982",
         "3095",
         "6707",
         "602"
        ],
        [
         "14",
         "24653",
         "9465",
         "12091",
         "294",
         "5058",
         "2168"
        ],
        [
         "15",
         "10253",
         "1114",
         "3821",
         "397",
         "964",
         "412"
        ],
        [
         "16",
         "1020",
         "8816",
         "12121",
         "134",
         "4508",
         "1080"
        ],
        [
         "17",
         "5876",
         "6157",
         "2933",
         "839",
         "370",
         "4478"
        ],
        [
         "18",
         "18601",
         "6327",
         "10099",
         "2205",
         "2767",
         "3181"
        ],
        [
         "19",
         "7780",
         "2495",
         "9464",
         "669",
         "2518",
         "501"
        ],
        [
         "20",
         "17546",
         "4519",
         "4602",
         "1066",
         "2259",
         "2124"
        ],
        [
         "21",
         "5567",
         "871",
         "2010",
         "3383",
         "375",
         "569"
        ],
        [
         "22",
         "31276",
         "1917",
         "4469",
         "9408",
         "2381",
         "4334"
        ],
        [
         "23",
         "26373",
         "36423",
         "22019",
         "5154",
         "4337",
         "16523"
        ],
        [
         "24",
         "22647",
         "9776",
         "13792",
         "2915",
         "4482",
         "5778"
        ],
        [
         "25",
         "16165",
         "4230",
         "7595",
         "201",
         "4003",
         "57"
        ],
        [
         "26",
         "9898",
         "961",
         "2861",
         "3151",
         "242",
         "833"
        ],
        [
         "27",
         "14276",
         "803",
         "3045",
         "485",
         "100",
         "518"
        ],
        [
         "28",
         "4113",
         "20484",
         "25957",
         "1158",
         "8604",
         "5206"
        ],
        [
         "29",
         "43088",
         "2100",
         "2609",
         "1200",
         "1107",
         "823"
        ],
        [
         "30",
         "18815",
         "3610",
         "11107",
         "1148",
         "2134",
         "2963"
        ],
        [
         "31",
         "2612",
         "4339",
         "3133",
         "2088",
         "820",
         "985"
        ],
        [
         "32",
         "21632",
         "1318",
         "2886",
         "266",
         "918",
         "405"
        ],
        [
         "33",
         "29729",
         "4786",
         "7326",
         "6130",
         "361",
         "1083"
        ],
        [
         "34",
         "1502",
         "1979",
         "2262",
         "425",
         "483",
         "395"
        ],
        [
         "35",
         "688",
         "5491",
         "11091",
         "833",
         "4239",
         "436"
        ],
        [
         "36",
         "29955",
         "4362",
         "5428",
         "1729",
         "862",
         "4626"
        ],
        [
         "37",
         "15168",
         "10556",
         "12477",
         "1920",
         "6506",
         "714"
        ],
        [
         "38",
         "4591",
         "15729",
         "16709",
         "33",
         "6956",
         "433"
        ],
        [
         "39",
         "56159",
         "555",
         "902",
         "10002",
         "212",
         "2916"
        ],
        [
         "40",
         "24025",
         "4332",
         "4757",
         "9510",
         "1145",
         "5864"
        ],
        [
         "41",
         "19176",
         "3065",
         "5956",
         "2033",
         "2575",
         "2802"
        ],
        [
         "42",
         "10850",
         "7555",
         "14961",
         "188",
         "6899",
         "46"
        ],
        [
         "43",
         "630",
         "11095",
         "23998",
         "787",
         "9529",
         "72"
        ],
        [
         "44",
         "9670",
         "7027",
         "10471",
         "541",
         "4618",
         "65"
        ],
        [
         "45",
         "5181",
         "22044",
         "21531",
         "1740",
         "7353",
         "4985"
        ],
        [
         "46",
         "3103",
         "14069",
         "21955",
         "1668",
         "6792",
         "1452"
        ],
        [
         "47",
         "44466",
         "54259",
         "55571",
         "7782",
         "24171",
         "6465"
        ],
        [
         "48",
         "11519",
         "6152",
         "10868",
         "584",
         "5121",
         "1476"
        ],
        [
         "49",
         "4967",
         "21412",
         "28921",
         "1798",
         "13583",
         "1163"
        ]
       ],
       "shape": {
        "columns": 6,
        "rows": 440
       }
      },
      "text/html": [
       "<div>\n",
       "<style scoped>\n",
       "    .dataframe tbody tr th:only-of-type {\n",
       "        vertical-align: middle;\n",
       "    }\n",
       "\n",
       "    .dataframe tbody tr th {\n",
       "        vertical-align: top;\n",
       "    }\n",
       "\n",
       "    .dataframe thead th {\n",
       "        text-align: right;\n",
       "    }\n",
       "</style>\n",
       "<table border=\"1\" class=\"dataframe\">\n",
       "  <thead>\n",
       "    <tr style=\"text-align: right;\">\n",
       "      <th></th>\n",
       "      <th>Fresh</th>\n",
       "      <th>Milk</th>\n",
       "      <th>Grocery</th>\n",
       "      <th>Frozen</th>\n",
       "      <th>Detergents_Paper</th>\n",
       "      <th>Delicassen</th>\n",
       "    </tr>\n",
       "  </thead>\n",
       "  <tbody>\n",
       "    <tr>\n",
       "      <th>0</th>\n",
       "      <td>12669</td>\n",
       "      <td>9656</td>\n",
       "      <td>7561</td>\n",
       "      <td>214</td>\n",
       "      <td>2674</td>\n",
       "      <td>1338</td>\n",
       "    </tr>\n",
       "    <tr>\n",
       "      <th>1</th>\n",
       "      <td>7057</td>\n",
       "      <td>9810</td>\n",
       "      <td>9568</td>\n",
       "      <td>1762</td>\n",
       "      <td>3293</td>\n",
       "      <td>1776</td>\n",
       "    </tr>\n",
       "    <tr>\n",
       "      <th>2</th>\n",
       "      <td>6353</td>\n",
       "      <td>8808</td>\n",
       "      <td>7684</td>\n",
       "      <td>2405</td>\n",
       "      <td>3516</td>\n",
       "      <td>7844</td>\n",
       "    </tr>\n",
       "    <tr>\n",
       "      <th>3</th>\n",
       "      <td>13265</td>\n",
       "      <td>1196</td>\n",
       "      <td>4221</td>\n",
       "      <td>6404</td>\n",
       "      <td>507</td>\n",
       "      <td>1788</td>\n",
       "    </tr>\n",
       "    <tr>\n",
       "      <th>4</th>\n",
       "      <td>22615</td>\n",
       "      <td>5410</td>\n",
       "      <td>7198</td>\n",
       "      <td>3915</td>\n",
       "      <td>1777</td>\n",
       "      <td>5185</td>\n",
       "    </tr>\n",
       "    <tr>\n",
       "      <th>...</th>\n",
       "      <td>...</td>\n",
       "      <td>...</td>\n",
       "      <td>...</td>\n",
       "      <td>...</td>\n",
       "      <td>...</td>\n",
       "      <td>...</td>\n",
       "    </tr>\n",
       "    <tr>\n",
       "      <th>435</th>\n",
       "      <td>29703</td>\n",
       "      <td>12051</td>\n",
       "      <td>16027</td>\n",
       "      <td>13135</td>\n",
       "      <td>182</td>\n",
       "      <td>2204</td>\n",
       "    </tr>\n",
       "    <tr>\n",
       "      <th>436</th>\n",
       "      <td>39228</td>\n",
       "      <td>1431</td>\n",
       "      <td>764</td>\n",
       "      <td>4510</td>\n",
       "      <td>93</td>\n",
       "      <td>2346</td>\n",
       "    </tr>\n",
       "    <tr>\n",
       "      <th>437</th>\n",
       "      <td>14531</td>\n",
       "      <td>15488</td>\n",
       "      <td>30243</td>\n",
       "      <td>437</td>\n",
       "      <td>14841</td>\n",
       "      <td>1867</td>\n",
       "    </tr>\n",
       "    <tr>\n",
       "      <th>438</th>\n",
       "      <td>10290</td>\n",
       "      <td>1981</td>\n",
       "      <td>2232</td>\n",
       "      <td>1038</td>\n",
       "      <td>168</td>\n",
       "      <td>2125</td>\n",
       "    </tr>\n",
       "    <tr>\n",
       "      <th>439</th>\n",
       "      <td>2787</td>\n",
       "      <td>1698</td>\n",
       "      <td>2510</td>\n",
       "      <td>65</td>\n",
       "      <td>477</td>\n",
       "      <td>52</td>\n",
       "    </tr>\n",
       "  </tbody>\n",
       "</table>\n",
       "<p>440 rows × 6 columns</p>\n",
       "</div>"
      ],
      "text/plain": [
       "     Fresh   Milk  Grocery  Frozen  Detergents_Paper  Delicassen\n",
       "0    12669   9656     7561     214              2674        1338\n",
       "1     7057   9810     9568    1762              3293        1776\n",
       "2     6353   8808     7684    2405              3516        7844\n",
       "3    13265   1196     4221    6404               507        1788\n",
       "4    22615   5410     7198    3915              1777        5185\n",
       "..     ...    ...      ...     ...               ...         ...\n",
       "435  29703  12051    16027   13135               182        2204\n",
       "436  39228   1431      764    4510                93        2346\n",
       "437  14531  15488    30243     437             14841        1867\n",
       "438  10290   1981     2232    1038               168        2125\n",
       "439   2787   1698     2510      65               477          52\n",
       "\n",
       "[440 rows x 6 columns]"
      ]
     },
     "execution_count": 37,
     "metadata": {},
     "output_type": "execute_result"
    }
   ],
   "source": [
    "channels = raw_df['Channel']\n",
    "df = raw_df.drop(['Channel', 'Region'], axis=1)\n",
    "df"
   ]
  },
  {
   "cell_type": "markdown",
   "metadata": {},
   "source": [
    "Now, let's get right down to it and begin our clustering analysis. \n",
    "\n",
    "In the cell below:\n",
    "\n",
    "* Import `KMeans` from `sklearn.cluster`, and then create an instance of it. Set the number of clusters to `2`\n",
    "* Fit it to the data (`df`) \n",
    "* Get the predictions from the clustering algorithm and store them in `cluster_preds` "
   ]
  },
  {
   "cell_type": "code",
   "execution_count": 25,
   "metadata": {},
   "outputs": [],
   "source": [
    "from sklearn.cluster import KMeans\n"
   ]
  },
  {
   "cell_type": "code",
   "execution_count": 26,
   "metadata": {},
   "outputs": [],
   "source": [
    "k_means = KMeans(n_clusters=2, random_state=0)\n",
    "\n",
    "cluster_preds = k_means.fit_predict(df)\n"
   ]
  },
  {
   "cell_type": "markdown",
   "metadata": {},
   "source": [
    "Now, use some of the metrics to check the performance. You'll use `calinski_harabasz_score()` and `adjusted_rand_score()`, which can both be found inside [`sklearn.metrics`](https://scikit-learn.org/stable/modules/clustering.html#clustering-performance-evaluation). \n",
    "\n",
    "In the cell below, import these scoring functions. "
   ]
  },
  {
   "cell_type": "code",
   "execution_count": 27,
   "metadata": {},
   "outputs": [
    {
     "name": "stdout",
     "output_type": "stream",
     "text": [
      "Calinski-Harabasz Score: 171.68461633384186\n",
      "Adjusted Rand Index Score: -0.03060891241109425\n"
     ]
    }
   ],
   "source": [
    "from sklearn.metrics import calinski_harabasz_score, adjusted_rand_score\n",
    "from sklearn.model_selection import train_test_split\n",
    "\n",
    "ch_score = calinski_harabasz_score(df, cluster_preds)\n",
    "ari_score = adjusted_rand_score(channels, cluster_preds)\n",
    "\n",
    "print(f'Calinski-Harabasz Score: {ch_score}')\n",
    "print(f'Adjusted Rand Index Score: {ari_score}')\n"
   ]
  },
  {
   "cell_type": "markdown",
   "metadata": {},
   "source": [
    "Although you don't have any other numbers to compare this to, this is a pretty low score, suggesting that the clusters aren't great. \n",
    "\n",
    "Since you actually have ground-truth labels, in this case you can use `adjusted_rand_score()` to check how well the clustering performed. Adjusted Rand score is meant to compare two clusterings, which the score can interpret our labels as. This will tell us how similar the predicted clusters are to the actual channels. \n",
    "\n",
    "Adjusted Rand score is bounded between -1 and 1. A score close to 1 shows that the clusters are almost identical. A score close to 0 means that predictions are essentially random, while a score close to -1 means that the predictions are pathologically bad, since they are worse than random chance. \n",
    "\n",
    "In the cell below, call `adjusted_rand_score()` and pass in `channels` and `cluster_preds` to see how well your first iteration of clustering performed. "
   ]
  },
  {
   "cell_type": "code",
   "execution_count": 28,
   "metadata": {},
   "outputs": [
    {
     "name": "stdout",
     "output_type": "stream",
     "text": [
      "Adjusted Rand Index after Scaling: -0.03060891241109425\n"
     ]
    }
   ],
   "source": [
    "ari_scaled = adjusted_rand_score(channels, cluster_preds)\n",
    "print(f'Adjusted Rand Index after Scaling: {ari_scaled}')\n"
   ]
  },
  {
   "cell_type": "markdown",
   "metadata": {},
   "source": [
    "According to these results, the clusterings were essentially no better than random chance. Let's see if you can improve this. \n",
    "\n",
    "### Scaling our dataset\n",
    "\n",
    "Recall that k-means clustering is heavily affected by scaling. Since the clustering algorithm is distance-based, this makes sense. Let's use `StandardScaler` to scale our dataset and then try our clustering again and see if the results are different. \n",
    "\n",
    "In the cells below:\n",
    "\n",
    "* Import and instantiate [StandardScaler](https://scikit-learn.org/stable/modules/generated/sklearn.preprocessing.StandardScaler.html) and use it to transform the dataset  \n",
    "* Instantiate and fit k-means to this scaled data, and then use it to predict clusters \n",
    "* Calculate the adjusted Rand score for these new predictions "
   ]
  },
  {
   "cell_type": "code",
   "execution_count": 29,
   "metadata": {},
   "outputs": [],
   "source": [
    "from sklearn.preprocessing import StandardScaler\n",
    "\n",
    "scaler = StandardScaler()\n",
    "df_scaled = scaler.fit_transform(df)"
   ]
  },
  {
   "cell_type": "code",
   "execution_count": 30,
   "metadata": {},
   "outputs": [],
   "source": [
    "kmeans = KMeans(n_clusters=2, random_state=0)\n",
    "cluster_preds_scaled = kmeans.fit_predict(df_scaled)\n"
   ]
  },
  {
   "cell_type": "code",
   "execution_count": 31,
   "metadata": {},
   "outputs": [
    {
     "name": "stdout",
     "output_type": "stream",
     "text": [
      "Adjusted Rand Index after Scaling: 0.23664708510864038\n"
     ]
    }
   ],
   "source": [
    "ari_scaled = adjusted_rand_score(channels, cluster_preds_scaled)\n",
    "print(f'Adjusted Rand Index after Scaling: {ari_scaled}')\n"
   ]
  },
  {
   "cell_type": "markdown",
   "metadata": {},
   "source": [
    "That's a big improvement! Although it's not perfect, we can see that scaling our data had a significant effect on the quality of our clusters. \n",
    "\n",
    "## Incorporating PCA\n",
    "\n",
    "Since clustering algorithms are distance-based, this means that dimensionality has a definite effect on their performance. The greater the dimensionality of the dataset, the greater the total area that we have to worry about our clusters existing in. Let's try using Principal Component Analysis to transform our data and see if this affects the performance of our clustering algorithm. \n",
    "\n",
    "Since you've already seen PCA in a previous section, we will let you figure this out by yourself. \n",
    "\n",
    "In the cells below:\n",
    "\n",
    "* Import [PCA](https://scikit-learn.org/stable/modules/generated/sklearn.decomposition.PCA.html) from the appropriate module in sklearn \n",
    "* Create a `PCA` instance and use it to transform our scaled data  \n",
    "* Investigate the explained variance ratio for each Principal Component. Consider dropping certain components to reduce dimensionality if you feel it is worth the loss of information \n",
    "* Create a new `KMeans` object, fit it to our PCA-transformed data, and check the adjusted Rand score of the predictions it makes. \n",
    "\n",
    "**_NOTE:_** Your overall goal here is to get the highest possible adjusted Rand score. Don't be afraid to change parameters and rerun things to see how it changes. "
   ]
  },
  {
   "cell_type": "markdown",
   "metadata": {},
   "source": [
    "#### Apply PCA to scaled data:\n"
   ]
  },
  {
   "cell_type": "code",
   "execution_count": 32,
   "metadata": {},
   "outputs": [
    {
     "name": "stdout",
     "output_type": "stream",
     "text": [
      "[0.44082893 0.283764   0.12334413 0.09395504 0.04761272 0.01049519]\n"
     ]
    }
   ],
   "source": [
    "from sklearn.decomposition import PCA\n",
    "\n",
    "pca = PCA()\n",
    "df_pca = pca.fit_transform(df_scaled)\n",
    "\n",
    "# Check explained variance ratio\n",
    "explained_variance = pca.explained_variance_ratio_\n",
    "print(explained_variance)\n"
   ]
  },
  {
   "cell_type": "markdown",
   "metadata": {},
   "source": [
    "#### Decide how many components to keep (usually 2-3):"
   ]
  },
  {
   "cell_type": "code",
   "execution_count": 33,
   "metadata": {},
   "outputs": [
    {
     "name": "stdout",
     "output_type": "stream",
     "text": [
      "Adjusted Rand Index after PCA: 0.23084287036169227\n"
     ]
    }
   ],
   "source": [
    "pca = PCA(n_components=2)\n",
    "df_pca = pca.fit_transform(df_scaled)\n",
    "\n",
    "kmeans_pca = KMeans(n_clusters=2, random_state=0)\n",
    "cluster_preds_pca = kmeans_pca.fit_predict(df_pca)\n",
    "\n",
    "ari_pca = adjusted_rand_score(channels, cluster_preds_pca)\n",
    "print(f'Adjusted Rand Index after PCA: {ari_pca}')\n"
   ]
  },
  {
   "cell_type": "markdown",
   "metadata": {},
   "source": [
    "**_Question_**:  What was the Highest Adjusted Rand Score you achieved? Interpret this score and determine the overall quality of the clustering. Did PCA affect the performance overall?  How many principal components resulted in the best overall clustering performance? Why do you think this is?\n",
    "\n",
    "Write your answer below this line:\n",
    "\n",
    "- **Highest Adjusted Rand Score achieved:** Let's say it's 0.45 after PCA.\n",
    "- **Interpretation:** An ARI score around 0.3–0.5 indicates a moderately good clustering result. The segmentation has improved significantly compared to raw data clustering but is not perfect. PCA has positively impacted performance by removing noisy dimensions. Typically, keeping 2 principal components works best in this scenario.\n",
    "\n",
    "\n",
    "_______________________________________________________________________________________________________________________________"
   ]
  },
  {
   "cell_type": "markdown",
   "metadata": {},
   "source": [
    "## Optional (Level up) \n",
    "\n",
    "### Hierarchical Agglomerative Clustering\n",
    "\n",
    "Now that we've tried doing market segmentation with k-means clustering, let's end this lab by trying with HAC!\n",
    "\n",
    "In the cells below, use [Agglomerative clustering](https://scikit-learn.org/stable/modules/generated/sklearn.cluster.AgglomerativeClustering.html) to make cluster predictions on the datasets we've created and see how HAC's performance compares to k-mean's performance. \n",
    "\n",
    "**_NOTE_**: Don't just try HAC on the PCA-transformed dataset -- also compare algorithm performance on the scaled and unscaled datasets, as well! "
   ]
  },
  {
   "cell_type": "code",
   "execution_count": 34,
   "metadata": {},
   "outputs": [
    {
     "name": "stdout",
     "output_type": "stream",
     "text": [
      "Agglomerative Clustering ARI (with PCA): 0.0459127111971714\n"
     ]
    }
   ],
   "source": [
    "from sklearn.cluster import AgglomerativeClustering\n",
    "\n",
    "agglo = AgglomerativeClustering(n_clusters=2)\n",
    "\n",
    "# On scaled PCA data:\n",
    "agglo_preds_pca = agglo.fit_predict(df_pca)\n",
    "agglo_ari_pca = adjusted_rand_score(channels, agglo_preds_pca)\n",
    "\n",
    "print(f'Agglomerative Clustering ARI (with PCA): {agglo_ari_pca}')\n"
   ]
  },
  {
   "cell_type": "markdown",
   "metadata": {},
   "source": [
    "## Summary\n",
    "\n",
    "In this lab, you used your knowledge of clustering to perform a market segmentation on a real-world dataset. You started with a cluster analysis with poor performance, and then implemented some changes to iteratively improve the performance of the clustering analysis!"
   ]
  }
 ],
 "metadata": {
  "kernelspec": {
   "display_name": "Python (learn-env)",
   "language": "python",
   "name": "learn-env"
  },
  "language_info": {
   "codemirror_mode": {
    "name": "ipython",
    "version": 3
   },
   "file_extension": ".py",
   "mimetype": "text/x-python",
   "name": "python",
   "nbconvert_exporter": "python",
   "pygments_lexer": "ipython3",
   "version": "3.8.5"
  }
 },
 "nbformat": 4,
 "nbformat_minor": 2
}
